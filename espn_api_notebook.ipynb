{
 "cells": [
  {
   "cell_type": "code",
   "execution_count": null,
   "id": "1c016d0c",
   "metadata": {},
   "outputs": [],
   "source": [
    "import urllib.request\n",
    "\n",
    "from espn_api.football import League\n",
    "from PIL import Image\n",
    "\n",
    "# Initialize fantasy football league\n",
    "league = League(\n",
    "    league_id=\"40638403\", \n",
    "    year=2021, \n",
    "    swid=\"{E44133A9-6610-4582-8133-A96610B582EB}\", \n",
    "    espn_s2=\"AEBOwh8uVwyqab9oZTp0wh1yzoVR27GZoL702TDOgu0n%2BW5DLa21ic%2FRnXmd6zXjaIXK0c9gwIskNxah9%2BWgoqMfN5SwEK4n5Sj3S3P9RVERDOlrGyXWD2xQXt0EpM%2BMGLZng42ygwHIa650PtLhbSGfd12WFmnea7JefgPNvy57ToHkMNXHAR5jXwWEa4tDevir7FK%2FbJB%2Bs5WMrT76yNbzu25DA4PK76KhCDzpixCX1K0wvczjFAFxRsfmSrblAHjP9c%2BNHZtNEISi5u5mnu3XPwOK3JeDnBQsyJS2XyDJNg%3D%3D\"\n",
    "    )"
   ]
  },
  {
   "cell_type": "code",
   "execution_count": null,
   "id": "d646a025",
   "metadata": {},
   "outputs": [],
   "source": [
    "# Printing out League object data\n",
    "print(\"------------------------------------\")\n",
    "print(\"List of teams\")\n",
    "print()\n",
    "image_dict = {}\n",
    "\n",
    "for i in range(len(league.teams)):\n",
    "    # Geting team\n",
    "    team = league.teams[i]\n",
    "    \n",
    "    \n",
    "    print(\"-------------------------------\")\n",
    "    print()\n",
    "    print(team.team_name)"
   ]
  },
  {
   "cell_type": "code",
   "execution_count": null,
   "id": "6508a81e",
   "metadata": {},
   "outputs": [],
   "source": [
    "# Filtering for Bryce's team\n",
    "for team in range(len(league.teams)):\n",
    "    if league.teams[team].team_name == \"Jackson Mahomo\":\n",
    "        fantasy_team = league.teams[team]\n",
    "        break"
   ]
  },
  {
   "cell_type": "code",
   "execution_count": null,
   "id": "5677623e",
   "metadata": {},
   "outputs": [],
   "source": [
    "# Printing out Team class data\n",
    "print()\n",
    "print(\"Data on Bryce's team\")\n",
    "print(\"------------------------------------\")\n",
    "print()\n",
    "print(\"Team id\")\n",
    "print(fantasy_team.team_id)\n",
    "print()\n",
    "print(\"Team name\")\n",
    "print(fantasy_team.team_name)\n",
    "print()\n",
    "print(\"Division id\")\n",
    "print(fantasy_team.division_id)\n",
    "print()\n",
    "print(\"Wins\")\n",
    "print(fantasy_team.wins)\n",
    "print()\n",
    "print(\"Points for\")\n",
    "print(fantasy_team.points_for)\n",
    "print()\n",
    "print(\"Points against\")\n",
    "print(fantasy_team.points_against)\n",
    "print()\n",
    "print(\"Logo url\")\n",
    "print(fantasy_team.logo_url)\n",
    "print()\n"
   ]
  },
  {
   "cell_type": "code",
   "execution_count": null,
   "id": "2aa9dd37",
   "metadata": {},
   "outputs": [],
   "source": [
    "fantasy_team.roster"
   ]
  },
  {
   "cell_type": "code",
   "execution_count": null,
   "id": "1fc35275",
   "metadata": {},
   "outputs": [],
   "source": [
    "print(\"Data on Bryce's Roster\")\n",
    "print(\"------------------------------------\")\n",
    "print()\n",
    "for i in range(len(fantasy_team.roster)):\n",
    "    player = fantasy_team.roster[i]\n",
    "    \n",
    "    print()\n",
    "    print(\"-------------------------------\")\n",
    "    print()\n",
    "    print(player.position, player.name)"
   ]
  },
  {
   "cell_type": "code",
   "execution_count": null,
   "id": "abd9f7b7",
   "metadata": {},
   "outputs": [],
   "source": [
    "print(\"Schedule\")\n",
    "print(\"------------------------------------\")\n",
    "print()\n",
    "\n",
    "for i in range(len(fantasy_team.schedule)):\n",
    "    \n",
    "    matchup = fantasy_team.schedule[i-1]\n",
    "    \n",
    "    print()\n",
    "    print(\"-------------------------------\")\n",
    "    print(\"week\", i + 1)\n",
    "    print(matchup.team_name)"
   ]
  }
 ],
 "metadata": {
  "kernelspec": {
   "display_name": "Python 3 (ipykernel)",
   "language": "python",
   "name": "python3"
  },
  "language_info": {
   "codemirror_mode": {
    "name": "ipython",
    "version": 3
   },
   "file_extension": ".py",
   "mimetype": "text/x-python",
   "name": "python",
   "nbconvert_exporter": "python",
   "pygments_lexer": "ipython3",
   "version": "3.10.5"
  }
 },
 "nbformat": 4,
 "nbformat_minor": 5
}
